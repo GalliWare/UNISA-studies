{
 "cells": [
  {
   "cell_type": "markdown",
   "metadata": {},
   "source": [
    "# Problem: Add two numbers.\n",
    "\n",
    "## Add the two numbers. \n"
   ]
  },
  {
   "cell_type": "code",
   "execution_count": 3,
   "metadata": {},
   "outputs": [
    {
     "name": "stdout",
     "output_type": "stream",
     "text": [
      "The total of the numbers 4 and 6 is 10\n"
     ]
    }
   ],
   "source": [
    "#input\r\n",
    "number1 = 4\r\n",
    "number2 = 6\r\n",
    "#processing\r\n",
    "total = number1 + number2\r\n",
    "#output\r\n",
    "print('The total of the numbers %d and %d is %d' % (number1, number2, total))"
   ]
  },
  {
   "cell_type": "markdown",
   "metadata": {},
   "source": [
    "## Problem: Add two numbers and show the result"
   ]
  },
  {
   "cell_type": "code",
   "execution_count": null,
   "metadata": {},
   "outputs": [],
   "source": [
    "#adding a comment would help\r\n",
    "#input\r\n",
    "userAMoney=333\r\n",
    "userBMoney=444\r\n",
    "#processing\r\n",
    "totalMoney=userAMoney+userBMoney\r\n",
    "#output\r\n",
    "print('The value is:', totalMoney)"
   ]
  },
  {
   "cell_type": "markdown",
   "metadata": {},
   "source": [
    "## Ask for input and show output and add comments"
   ]
  },
  {
   "cell_type": "code",
   "execution_count": null,
   "metadata": {},
   "outputs": [],
   "source": [
    "#this program add the number of masks\r\n",
    "#input\r\n",
    "nNum1=int(input('Please a number: '))\r\n",
    "nNum2=int(input('Please another number: '))\r\n",
    "#processing\r\n",
    "nTotal=nNum1+nNum2\r\n",
    "#output\r\n",
    "print('The value is:', nTotal)"
   ]
  },
  {
   "cell_type": "markdown",
   "metadata": {},
   "source": [
    "## A problem that is more detailed, with comments, input, process and output"
   ]
  },
  {
   "cell_type": "code",
   "execution_count": null,
   "metadata": {},
   "outputs": [],
   "source": [
    "#This is comment\n",
    "nNumber1=int(input('Please enter the number of learners in the school : '))\n",
    "nNumber2=int(input('Please enter the number of educators in the school : '))\n",
    "#this is the processing\n",
    "nTotal= nNumber1+nNumber2\n",
    "#this is the output\n",
    "print('The total number of people at school is : ', nTotal)"
   ]
  },
  {
   "cell_type": "markdown",
   "metadata": {},
   "source": [
    "## Changing from adding to other operations"
   ]
  },
  {
   "cell_type": "code",
   "execution_count": 4,
   "metadata": {},
   "outputs": [
    {
     "name": "stdout",
     "output_type": "stream",
     "text": [
      "The value is: 133\n",
      "The remainder is: 1\n"
     ]
    }
   ],
   "source": [
    "#How many books does each learner receive?\n",
    "#This is the input\n",
    "a=int(input('Please enter the number of books issued to the school : '))\n",
    "b=int(input('Please enter the number of learners in the school: '))\n",
    "#this is the processing\n",
    "thetotal=a//b\n",
    "theremain=a%b\n",
    "#this is the output\n",
    "print('The value is:', thetotal)\n",
    "print('The remainder is:', theremain)"
   ]
  },
  {
   "cell_type": "markdown",
   "metadata": {},
   "source": [
    "## Changing multiple. Change the data type?"
   ]
  },
  {
   "cell_type": "code",
   "execution_count": null,
   "metadata": {},
   "outputs": [],
   "source": [
    "#calculate the area of a rectanble\r\n",
    "#This is the input\r\n",
    "length=float(input('Please enter the length of the rectangle: '))\r\n",
    "breadth=float(input('Please enter the breadth of the rectangle: '))\r\n",
    "#this is the processing\r\n",
    "area=length*breadth\r\n",
    "#this is the output\r\n",
    "print('The area in square meters is:', area)"
   ]
  },
  {
   "cell_type": "code",
   "execution_count": null,
   "metadata": {},
   "outputs": [],
   "source": [
    "#calcuate the area of a triangle.\r\n",
    "#ask the user for input values\r\n",
    "#This is the input\r\n",
    "base=float(input('Please enter the base length (m): '))\r\n",
    "height=float(input('Please enter the height (m): '))\r\n",
    "#this is the processing\r\n",
    "areatri=0.5*base*height\r\n",
    "#this is the output\r\n",
    "print('Area is (in square meters) : ', areatri)\r\n"
   ]
  },
  {
   "cell_type": "markdown",
   "metadata": {},
   "source": [
    "## Add the marks that you received for 4 assignments, and calcuate the average value\n"
   ]
  },
  {
   "cell_type": "code",
   "execution_count": 5,
   "metadata": {},
   "outputs": [
    {
     "name": "stdout",
     "output_type": "stream",
     "text": [
      "This console app will calculate the average of 4 assignment marks entered\n",
      "The average is 77\n"
     ]
    }
   ],
   "source": [
    "#calculate the average of 4 assignments\r\n",
    "print(\"This console app will calculate the average of 4 assignment marks entered\")\r\n",
    "#This is the input\r\n",
    "assignment1=float(input('Please assignment1 mark: '))\r\n",
    "assignment2=float(input('Please assignment2 mark: '))\r\n",
    "assignment3=float(input('Please assignment3 mark: '))\r\n",
    "assignment4=float(input('Please assignment4 mark: '))\r\n",
    "#this is the processing\r\n",
    "average=(assignment1+assignment2+assignment3+assignment4)/4\r\n",
    "#this is the output\r\n",
    "print('The average is %d' %average)"
   ]
  },
  {
   "cell_type": "markdown",
   "metadata": {},
   "source": [
    "## Using a number to a power"
   ]
  },
  {
   "cell_type": "code",
   "execution_count": null,
   "metadata": {},
   "outputs": [],
   "source": [
    "#calculate the power of a number\r\n",
    "print(\"This console app will calculate the power of a number\")\r\n",
    "#This is the input\r\n",
    "number=int(input('Please enter a number: '))\r\n",
    "power=int(input('Please enter the power: '))\r\n",
    "#this is the processing\r\n",
    "answer=number**power\r\n",
    "#this is the output\r\n",
    "print('The answer is %d' %answer)"
   ]
  },
  {
   "cell_type": "markdown",
   "metadata": {},
   "source": [
    "## Use the radius of a wheel to calcuate the circumference of the wheel\n"
   ]
  },
  {
   "cell_type": "code",
   "execution_count": null,
   "metadata": {},
   "outputs": [],
   "source": [
    "\n"
   ]
  },
  {
   "cell_type": "markdown",
   "metadata": {},
   "source": [
    "## Calculate the speed. Ask for user input in km and hours.  Format the output in km/h to two decimal values."
   ]
  },
  {
   "cell_type": "code",
   "execution_count": null,
   "metadata": {},
   "outputs": [],
   "source": [
    "#calculate speed of a object from user input of kilometers and time in hours\r\n",
    "print(\"This console app will calculate the speed of a object\")\r\n",
    "#This is the input\r\n",
    "kilometers=int(input('Please enter kilometers traveled: '))\r\n",
    "hours=int(input('Please enter the time in hours: '))\r\n",
    "#this is the processing\r\n",
    "speed=kilometers/hours\r\n",
    "#this is the output\r\n",
    "print('The speed of the object is %d' %speed)"
   ]
  },
  {
   "cell_type": "markdown",
   "metadata": {},
   "source": [
    "## Determine the data type of a variable. Ask for user input for integer, float and string."
   ]
  },
  {
   "cell_type": "code",
   "execution_count": null,
   "metadata": {},
   "outputs": [],
   "source": []
  },
  {
   "cell_type": "code",
   "execution_count": null,
   "metadata": {},
   "outputs": [],
   "source": []
  }
 ],
 "metadata": {
  "kernelspec": {
   "display_name": "Python 3",
   "language": "python",
   "name": "python3"
  },
  "language_info": {
   "codemirror_mode": {
    "name": "ipython",
    "version": 3
   },
   "file_extension": ".py",
   "mimetype": "text/x-python",
   "name": "python",
   "nbconvert_exporter": "python",
   "pygments_lexer": "ipython3",
   "version": "3.7.4"
  }
 },
 "nbformat": 4,
 "nbformat_minor": 2
}