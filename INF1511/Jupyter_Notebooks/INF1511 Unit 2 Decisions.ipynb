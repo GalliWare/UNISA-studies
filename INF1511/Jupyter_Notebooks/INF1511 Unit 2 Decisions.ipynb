{
 "cells": [
  {
   "cell_type": "code",
   "execution_count": null,
   "metadata": {},
   "outputs": [],
   "source": [
    "#input\n",
    "theWeather='rain'\n",
    "#process\n",
    "if (theWeather == 'rain'):\n",
    "    #output\n",
    "    print('Please use an umbrella')"
   ]
  },
  {
   "cell_type": "code",
   "execution_count": null,
   "metadata": {},
   "outputs": [],
   "source": [
    "#input\n",
    "nTemp=34\n",
    "#process\n",
    "if (nTemp >= 37.9):\n",
    "    #output\n",
    "    print('Please go for a COVID TEST NOW!')"
   ]
  },
  {
   "cell_type": "code",
   "execution_count": null,
   "metadata": {},
   "outputs": [],
   "source": [
    "#input\n",
    "nTemp=int(input('Please input your temperature reading : '))\n",
    "#process\n",
    "if (nTemp >= 37):\n",
    "    #output\n",
    "    print('Please go for a COVID TEST NOW!')"
   ]
  },
  {
   "cell_type": "code",
   "execution_count": null,
   "metadata": {},
   "outputs": [],
   "source": [
    "#input\n",
    "nTemp=int(input('Please input your temperature reading : '))\n",
    "#process\n",
    "if (nTemp >= 37):\n",
    "    #output\n",
    "    print('Please go for a COVID TEST NOW!')\n",
    "else:\n",
    "    print('all OK, have a HAPPY day!')"
   ]
  },
  {
   "cell_type": "code",
   "execution_count": null,
   "metadata": {},
   "outputs": [],
   "source": [
    "#input\n",
    "theWeather=input('Please input the weather')\n",
    "#process\n",
    "if (theWeather == 'rain'):\n",
    "    #output\n",
    "    print('Please use an umbrella')"
   ]
  },
  {
   "cell_type": "code",
   "execution_count": null,
   "metadata": {},
   "outputs": [],
   "source": [
    "#input\n",
    "theWeather=input('Please input the weather : ')\n",
    "#process\n",
    "if (theWeather == 'rain'):\n",
    "    #output\n",
    "    print('Please use an umbrella')\n",
    "else:\n",
    "    print('Umbrella not required')"
   ]
  },
  {
   "cell_type": "code",
   "execution_count": null,
   "metadata": {},
   "outputs": [],
   "source": [
    "myAge=int(input('What is your age? '))\n",
    "if myAge >= 18:\n",
    "    print('You are an adult')\n",
    "else:\n",
    "    print('You are not an adult')"
   ]
  },
  {
   "cell_type": "code",
   "execution_count": null,
   "metadata": {},
   "outputs": [],
   "source": [
    "# ensure that the entire range is covered\n",
    "myAge=int(input('What is your age?'))\n",
    "if myAge >= 21:\n",
    "    print('You are an adult')\n",
    "elif myAge > 13 and myAge <21:\n",
    "    print(' TEENAGER')\n",
    "else:\n",
    "    print('You are not an adult')"
   ]
  },
  {
   "cell_type": "code",
   "execution_count": null,
   "metadata": {},
   "outputs": [],
   "source": [
    "# ensure that the entire range is covered multiple AND ORs\n",
    "#WARNING>>>>>>>>>>>>>>>>>>>>>>>>>>>>>>>>>>>>>>>>>>>>>>>>>>>>>>>>>>>>>>>>>>>\n",
    "\n",
    "myAge=int(input('What is your age?  '))\n",
    "myCoffee=input('Do you drink coffee? (Y/N) ')\n",
    "\n",
    "if myCoffee.upper() =='Y':\n",
    "    drinkCoffee = True\n",
    "else:\n",
    "    drinkCoffee = False    \n",
    "    \n",
    "if drinkCoffee:\n",
    "    if (myAge > 21):\n",
    "        print('Adult coffee drinker')\n",
    "    else:\n",
    "        print('Non-adult coffee drinker')\n",
    "else:\n",
    "    if (myAge > 21):\n",
    "        print('Adult non coffee drinker')\n",
    "    else:\n",
    "        print('neither adult nor coffee drinker')       \n"
   ]
  },
  {
   "cell_type": "code",
   "execution_count": null,
   "metadata": {},
   "outputs": [],
   "source": [
    "#Guess a number\n",
    "nMyNumber = 101\n",
    "nYourNumber = int(input('Input your integer number :'))\n",
    "if nMyNumber ==nYourNumber:\n",
    "    print('Correct well done!'')\n",
    "else\n",
    "    print('Sorry try again!')"
   ]
  },
  {
   "cell_type": "code",
   "execution_count": null,
   "metadata": {},
   "outputs": [],
   "source": []
  },
  {
   "cell_type": "code",
   "execution_count": null,
   "metadata": {},
   "outputs": [],
   "source": [
    "myClass=['henry', 'jane', 'mary', 'sibu', 'kabelo', 'dineo', 'andzani']\n",
    "myName = input('What is your name? ')\n",
    "if myName not in myClass:\n",
    "    print('Sorry, your name does not appear on the class list!')\n",
    "else:\n",
    "    print('welcome to another class meeting.  The session shall start shortly ... \\n')"
   ]
  },
  {
   "cell_type": "code",
   "execution_count": null,
   "metadata": {},
   "outputs": [],
   "source": [
    "myClass=['henry', 'jane', 'tyron', 'sibu', 'kabelo', 'dineo', 'andzani']\n",
    "myName = input('What is your name? ')\n",
    "if myName not in myClass:\n",
    "    print('Sorry %s, your name does not appear on the class list!' %(myName.title()))\n",
    "else:\n",
    "    print('Hello %s, and welcome to another class meeting.  The session shall start shortly ... '  %(myName.title()))"
   ]
  },
  {
   "cell_type": "code",
   "execution_count": null,
   "metadata": {},
   "outputs": [],
   "source": [
    "myPet = 'cat'\n",
    "myCat = 'cat'\n",
    "if (myPet == myCat):\n",
    "    print('TRUE')\n",
    "else:\n",
    "    print('FALSE')"
   ]
  },
  {
   "cell_type": "markdown",
   "metadata": {},
   "source": [
    "##Problem. Calculate the cost of a ticket I need to purchase to attend a lecture on The AmaZing World of Python.  The cost depends on your age.  Anyone younger than 15 is free, younger than 21 is R10.00, between 21 and 65 is R35.00, and 65 and older is free."
   ]
  },
  {
   "cell_type": "code",
   "execution_count": null,
   "metadata": {},
   "outputs": [],
   "source": [
    "#add your code here"
   ]
  },
  {
   "cell_type": "markdown",
   "metadata": {},
   "source": [
    "#Problem. Write a Python program that uses an IF statement. The program must prompt the user for the rainfall (in mm) today.  The input value must determine and output a message to the user. If less than 10mm, then 'Very dry day', and more than 30mm then 'Very wet day', else 'Not dry and not wet day'."
   ]
  },
  {
   "cell_type": "code",
   "execution_count": null,
   "metadata": {},
   "outputs": [],
   "source": [
    "#add you code here"
   ]
  }
 ],
 "metadata": {
  "kernelspec": {
   "display_name": "Python 3",
   "language": "python",
   "name": "python3"
  },
  "language_info": {
   "codemirror_mode": {
    "name": "ipython",
    "version": 3
   },
   "file_extension": ".py",
   "mimetype": "text/x-python",
   "name": "python",
   "nbconvert_exporter": "python",
   "pygments_lexer": "ipython3",
   "version": "3.7.4"
  }
 },
 "nbformat": 4,
 "nbformat_minor": 2
}
