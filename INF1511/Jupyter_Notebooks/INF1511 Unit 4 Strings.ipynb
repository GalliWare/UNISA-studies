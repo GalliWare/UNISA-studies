{
 "cells": [
  {
   "cell_type": "code",
   "execution_count": null,
   "metadata": {},
   "outputs": [],
   "source": [
    "#string values assigned to variables\n",
    "#the problem is to add two strings\n",
    "#concatenate strings\n",
    "#input\n",
    "sWord1=\"Coding\"\n",
    "sWord2= \"Robotics\"\n",
    "#processing\n",
    "myTotal = sWord1+sWord2\n",
    "#output\n",
    "print('The output is : ',myTotal)"
   ]
  },
  {
   "cell_type": "code",
   "execution_count": null,
   "metadata": {},
   "outputs": [],
   "source": [
    "#Concatenate may need some formatting\n",
    "#What about INPUT PROCESS OUTPUT\n",
    "#using variables to store string values\n",
    "sRain='It may rain.'\n",
    "sSun='The sun is shining.'\n",
    "#sRain=input('Please input rain forecast: ')\n",
    "#sSun=input('Please input sun forecase : ')\n",
    "#processing to concatenate\n",
    "forecast=sRain+sSun\n",
    "#outout\n",
    "print(forecast)"
   ]
  },
  {
   "cell_type": "code",
   "execution_count": null,
   "metadata": {},
   "outputs": [],
   "source": [
    "#this example uses coded string values ... and the output may be formatted\n",
    "nDay=13\n",
    "nMonth='May'\n",
    "nYear=2021\n",
    "#print('it is', myDay, 'th day of the ', myMonth,  'th month of the year ', myYear)\n",
    "print('it is %d th day of %s of the year %d ' %(nDay, nMonth, nYear))"
   ]
  },
  {
   "cell_type": "code",
   "execution_count": null,
   "metadata": {},
   "outputs": [],
   "source": [
    "#this example shows the use of user input string values rather than coded values\n",
    "#input\n",
    "myDay=int(input('Enter the day: '))\n",
    "myMonth=int(input('Enter the month: '))\n",
    "myYear=int(input('Enter the year: '))\n",
    "#processing\n",
    "\n",
    "#output\n",
    "print('it is', myDay, 'th day of the ', myMonth,  'th month of the year ', myYear)\n",
    "print('it is %d th day of the %d th month of the year %d ' %(myDay, myMonth, myYear))"
   ]
  },
  {
   "cell_type": "code",
   "execution_count": null,
   "metadata": {},
   "outputs": [],
   "source": [
    "#this example shows the use of user input string values rather than coded values\n",
    "#this is input\n",
    "myDay=(input('Enter the name of the day : '))\n",
    "myMonth=(input('Enter the name of the month: '))\n",
    "myYear=int(input('Enter the year: '))\n",
    "#processing\n",
    "\n",
    "#output\n",
    "print('it is', myDay, ' in ', myMonth,  ' of the year ', myYear)"
   ]
  },
  {
   "cell_type": "code",
   "execution_count": null,
   "metadata": {},
   "outputs": [],
   "source": [
    "#This program demonstrates the use of strings and functions\n",
    "#s=\"Hello World!\" \n",
    "#input\n",
    "s=input('Please input a sentence : ')\n",
    "#processing and output\n",
    "print ('Original : ', s)\n",
    "print('After toggling the case:', s.swapcase()) \n",
    "print('In uppercase is : ', s.upper())\n",
    "print('In lowercase is : ', s.lower()) \n",
    "print('The length is : ', len(s))"
   ]
  },
  {
   "cell_type": "code",
   "execution_count": null,
   "metadata": {},
   "outputs": [],
   "source": [
    "#This program demonstrates strings and functions\n",
    "s=\"Hello World!\" \n",
    "#s=input('Please input a first string : ')\n",
    "t=input('Please input a second string : ')\n",
    "\n",
    "print(s*3)\n",
    "print('The combination is ',s.join(t))\n"
   ]
  },
  {
   "cell_type": "code",
   "execution_count": null,
   "metadata": {},
   "outputs": [],
   "source": [
    "#strings and sub-strings\n",
    "s=input('Please input a first string : ')\n",
    "n=len(s)\n",
    "t=s.count('a', 0, n) + s.count('A', 0, n)\n",
    "print('The count is : %d' %(t))"
   ]
  },
  {
   "cell_type": "code",
   "execution_count": null,
   "metadata": {
    "scrolled": true
   },
   "outputs": [],
   "source": [
    "n=input('Enter the province and the country separated by a space : ') \n",
    "k=n.partition(' ')\n",
    "print('The location after interchanging province and the country:', k[2], k[0]) "
   ]
  },
  {
   "cell_type": "code",
   "execution_count": null,
   "metadata": {},
   "outputs": [],
   "source": [
    "#determine whether a substring exists in a string\n",
    "#input\n",
    "sString=input('enter the string : ')\n",
    "sSub=input('enter the substring : ')\n",
    "#process and output\n",
    "if (sSub in sString):\n",
    "    print('the substring', sSub,' is found in string', sString)\n",
    "else:\n",
    "    print('the substring', sSub,' is not found in string', sString)"
   ]
  },
  {
   "cell_type": "code",
   "execution_count": null,
   "metadata": {},
   "outputs": [],
   "source": [
    "#determine whether a substring exists in a string\n",
    "#input\n",
    "sString=input('enter the string : ')\n",
    "sSub=input('enter the substring : ')\n",
    "#process and output\n",
    "rResult=sString.find(sSub)\n",
    "if rResult ==-1:\n",
    "    print('the substring', sSub,' is not found in string', sString)\n",
    "else:\n",
    "    print('the substring', sSub,' is found in string', sString)"
   ]
  },
  {
   "cell_type": "code",
   "execution_count": null,
   "metadata": {},
   "outputs": [],
   "source": [
    "#Numerical ARRAYS\n",
    "print('enter the 4 assignment results (%)')\n",
    "#initialize the array\n",
    "nAssign=[0 for i in range(4)]\n",
    "for iCount in range (4):\n",
    "    nAssign[iCount]=int(input('Enter mark : '))\n",
    "print('Numbers in the array nAssign', nAssign)    \n",
    "for n in nAssign:\n",
    "    print(n)\n"
   ]
  },
  {
   "cell_type": "code",
   "execution_count": null,
   "metadata": {},
   "outputs": [],
   "source": [
    "#Lists - collect of elements\n",
    "sNames=['Matthew', 'Mark','Luke', 'John']\n",
    "print(sNames[0])\n",
    "print(sNames[-1])"
   ]
  },
  {
   "cell_type": "code",
   "execution_count": null,
   "metadata": {},
   "outputs": [],
   "source": [
    "#Lists - collect of elements\n",
    "sNames=['Matthew', 'Mark','Luke', 'John']\n",
    "print(sNames[0])\n",
    "print(sNames[-1])\n",
    "for i in range (0,len(sNames)):\n",
    "    print(sNames[i])"
   ]
  },
  {
   "cell_type": "code",
   "execution_count": 2,
   "metadata": {},
   "outputs": [
    {
     "name": "stdout",
     "output_type": "stream",
     "text": [
      "The month is: January\n"
     ]
    }
   ],
   "source": [
    "#create a list of the months in the year\r\n",
    "#enter a month number and return the name of the month\r\n",
    "sMonths=['January','Febuary','March','April','May','June','July','August','September','October','Novemeber','December']\r\n",
    "num = int(input(\"Please enter the month number: \"))\r\n",
    "num = num - 1\r\n",
    "print(\"The month is: %s\" %sMonths[num])"
   ]
  },
  {
   "cell_type": "code",
   "execution_count": null,
   "metadata": {},
   "outputs": [],
   "source": [
    "#create a list of your modules\n",
    "#the user must provide input on the name of the module, output must be confirmation of the module code in your list."
   ]
  },
  {
   "cell_type": "code",
   "execution_count": null,
   "metadata": {},
   "outputs": [],
   "source": [
    "#enter the headlines from the morning newspaper\n",
    "#apply the string functions min max len upper lower title and swapcase to the string\n",
    "#provide output for each function."
   ]
  }
 ],
 "metadata": {
  "kernelspec": {
   "display_name": "Python 3.9.0 64-bit",
   "name": "python390jvsc74a57bd063fd5069d213b44bf678585dea6b12cceca9941eaf7f819626cde1f2670de90d"
  },
  "language_info": {
   "codemirror_mode": {
    "name": "ipython",
    "version": 3
   },
   "file_extension": ".py",
   "mimetype": "text/x-python",
   "name": "python",
   "nbconvert_exporter": "python",
   "pygments_lexer": "ipython3",
   "version": "3.9.0"
  },
  "metadata": {
   "interpreter": {
    "hash": "63fd5069d213b44bf678585dea6b12cceca9941eaf7f819626cde1f2670de90d"
   }
  }
 },
 "nbformat": 4,
 "nbformat_minor": 2
}