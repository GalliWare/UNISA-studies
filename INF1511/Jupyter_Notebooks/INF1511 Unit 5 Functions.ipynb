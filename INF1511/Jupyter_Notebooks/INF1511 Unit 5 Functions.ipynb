{
 "cells": [
  {
   "cell_type": "code",
   "execution_count": null,
   "metadata": {},
   "outputs": [],
   "source": [
    "#functions have a name\n",
    "#functions are passed values using parameter\n",
    "#functions can return a result"
   ]
  },
  {
   "cell_type": "code",
   "execution_count": 1,
   "metadata": {},
   "outputs": [
    {
     "name": "stdout",
     "output_type": "stream",
     "text": [
      "9\n"
     ]
    }
   ],
   "source": [
    "def mySum(a:int,b:int):\r\n",
    "    return (a+b)\r\n",
    "\r\n",
    "nTotal=mySum(4,5)\r\n",
    "print(nTotal)"
   ]
  },
  {
   "cell_type": "code",
   "execution_count": null,
   "metadata": {},
   "outputs": [],
   "source": [
    "def subtract(a:int,b:int):\r\n",
    "    return (a-b)\r\n",
    "\r\n",
    "nTotal=subtract(4,5)\r\n",
    "print(nTotal)"
   ]
  },
  {
   "cell_type": "code",
   "execution_count": null,
   "metadata": {},
   "outputs": [],
   "source": [
    "def myAdding(a:int,b:int,c:int,d:int,e:int):\r\n",
    "    return (a+b+c+d+e)\r\n",
    "nTotal=myAdding(1,2,3,4,5)\r\n",
    "print(nTotal)"
   ]
  },
  {
   "cell_type": "code",
   "execution_count": null,
   "metadata": {},
   "outputs": [],
   "source": [
    "#comment ....\r\n",
    "def myAverage(a:int,b:int,c:int,d:int,e:int):\r\n",
    "    return (a+b+c+d+e/5.0)\r\n",
    "#input\r\n",
    "#processing\r\n",
    "nAve=myAverage(1,2,3,4,5)\r\n",
    "#output\r\n",
    "print(nAve)"
   ]
  },
  {
   "cell_type": "code",
   "execution_count": null,
   "metadata": {},
   "outputs": [],
   "source": [
    "#comment ....\r\n",
    "def myNumber(nNum:int):\r\n",
    "    if nNum==1:\r\n",
    "        return('one')\r\n",
    "    elif nNum==2:\r\n",
    "        return('two')\r\n",
    "    else:\r\n",
    "        return('sorry, not defined')\r\n",
    "#input\r\n",
    "nNum=int(input('Please enter a number : '))\r\n",
    "#processing\r\n",
    "\r\n",
    "#output\r\n",
    "print(myNumber(nNum))"
   ]
  },
  {
   "cell_type": "code",
   "execution_count": null,
   "metadata": {},
   "outputs": [],
   "source": [
    "#define the function using default value parameter\r\n",
    "def sum(a:int,b:int=20):\r\n",
    "    return (a+b)\r\n",
    "\r\n",
    "#input\r\n",
    "myNum=int(input(\"please enter a number : \"))\r\n",
    "\r\n",
    "nTotal=sum(myNum)\r\n",
    "print(nTotal)\r\n",
    "nTotal=sum(myNum, myNum)\r\n",
    "print(nTotal)"
   ]
  },
  {
   "cell_type": "code",
   "execution_count": null,
   "metadata": {},
   "outputs": [],
   "source": [
    "#global and local variables\r\n",
    "def myAdding():\r\n",
    "    global x\r\n",
    "    print('The value of x in function is : ', x)\r\n",
    "    x=x+5\r\n",
    "    print('The value of x in function is : ', x)\r\n",
    "    return\r\n",
    "x=0\r\n",
    "myAdding()\r\n",
    "print('The value of x out of function is : ', x)"
   ]
  },
  {
   "cell_type": "code",
   "execution_count": null,
   "metadata": {},
   "outputs": [],
   "source": [
    "#global and local variables\r\n",
    "def myAdding(x:int):\r\n",
    "    #global x\r\n",
    "    print('The value of x in function is : ', x)\r\n",
    "    x=x+5\r\n",
    "    print('The value of x in function is : ', x)\r\n",
    "    return\r\n",
    "x=0\r\n",
    "myAdding(x)\r\n",
    "print('The value of x out of function is : ', x)"
   ]
  },
  {
   "cell_type": "code",
   "execution_count": null,
   "metadata": {},
   "outputs": [],
   "source": [
    "#lamda functions\r\n",
    "def f(y:int):\r\n",
    "    return (y+2)*3\r\n",
    "\r\n",
    "x=int(input('input a value : '))\r\n",
    "print(f(x))"
   ]
  },
  {
   "cell_type": "code",
   "execution_count": null,
   "metadata": {},
   "outputs": [],
   "source": [
    "#using functions to format input\r\n",
    "def myFormat(s1:str, s2:str):\r\n",
    "    fullName = s1.title() + ' ' + s2.title()\r\n",
    "    return fullName\r\n",
    "#input\r\n",
    "firstname=input('input your first name : ')\r\n",
    "surname = input('input your surname : ')\r\n",
    "#processing\r\n",
    "myName=myFormat(firstname, surname)\r\n",
    "#output\r\n",
    "print(myName)"
   ]
  },
  {
   "cell_type": "code",
   "execution_count": null,
   "metadata": {},
   "outputs": [],
   "source": [
    "def evenval(x:int):\r\n",
    "    return (x%2 ==0)\r\n",
    "\r\n",
    "#input\r\n",
    "#nStart=int(input('Enter a start number : '))\r\n",
    "#nEnd=int(input('Enter an end number: '))\r\n",
    "myEvens=filter(evenval, range(1,10))\r\n",
    "print(list(myEvens))"
   ]
  },
  {
   "cell_type": "code",
   "execution_count": null,
   "metadata": {},
   "outputs": [],
   "source": [
    "def square(nNum:int):\r\n",
    "    return (nNum*nNum)\r\n",
    "#input\r\n",
    "#nStart=int(input('Enter a start number : '))\r\n",
    "#nEnd=int(input('Enter an end number: '))\r\n",
    "#process\r\n",
    "mySquare=map(square, range(1,11))\r\n",
    "#output\r\n",
    "print(list(mySquare))"
   ]
  },
  {
   "cell_type": "code",
   "execution_count": null,
   "metadata": {},
   "outputs": [],
   "source": [
    "#note that functools is a module that is imported\r\n",
    "import functools\r\n",
    "def myAdd(x:int, y:int):\r\n",
    "    return (x+y)\r\n",
    "mySum=functools.reduce(myAdd, range(1,5))\r\n",
    "print(mySum)"
   ]
  },
  {
   "cell_type": "code",
   "execution_count": null,
   "metadata": {},
   "outputs": [],
   "source": [
    "#define the function attributes\n",
    "#change the value of the function attributes ....\n"
   ]
  },
  {
   "cell_type": "code",
   "execution_count": null,
   "metadata": {},
   "outputs": [],
   "source": [
    "#you can implement recursion using a function\n",
    "#Write a program using recursion that adds 10 numbers"
   ]
  },
  {
   "cell_type": "code",
   "execution_count": null,
   "metadata": {},
   "outputs": [],
   "source": [
    "#Write a program to demonstrate the use of an iterator and a generator"
   ]
  },
  {
   "cell_type": "code",
   "execution_count": null,
   "metadata": {},
   "outputs": [],
   "source": [
    "#there are a number of ways of importing modules .... NB\r\n",
    "from calendar import prcal\r\n",
    "year=int(input('The year is : '))\r\n",
    "prcal(year)"
   ]
  },
  {
   "cell_type": "code",
   "execution_count": null,
   "metadata": {},
   "outputs": [],
   "source": [
    "#import math"
   ]
  },
  {
   "cell_type": "code",
   "execution_count": null,
   "metadata": {},
   "outputs": [],
   "source": [
    "def myPet(petType:str,petName:str):\r\n",
    "    print('I have a %s named %s.' %(petType.lower(), petName.title()))\r\n",
    "\r\n",
    "petType = str(input(\"What type of pet do you have? \"))\r\n",
    "petName = str(input(\"What is the name of your pet? \"))\r\n",
    "myPet(petType, petName)"
   ]
  },
  {
   "cell_type": "markdown",
   "metadata": {},
   "source": [
    "## Function\n",
    "Defines a function called myDate.\n",
    "The program must prompt the user for the input to the function, namely is three integers (nDay, nMonth, nYear). \n",
    "The output from the function must be a string message describing your birthday. \n",
    "The function call theMessage = myDate (nDay, nMonth, nYear), must be following by a print(theMessage)."
   ]
  },
  {
   "cell_type": "code",
   "execution_count": null,
   "metadata": {},
   "outputs": [],
   "source": [
    "def myDate(nDay:int, nMonth:int, nYear:int):\r\n",
    "    sMonth = 'XXX'\r\n",
    "    months = [  'January','February','March','April','May','June','July',\r\n",
    "                'August','September','October','November','December'\r\n",
    "                ]\r\n",
    "    if 1 <= nMonth <= 12:\r\n",
    "        print (\"The month is\", months[nMonth-1])\r\n",
    "        sMonth = months[nMonth-1]\r\n",
    "    else:\r\n",
    "        print (\"Value is out of the range\") \r\n",
    "    return ('You were born on %d %s %d' %(nDay, sMonth, nYear))    \r\n",
    "        \r\n",
    "nDay   = int(input(\"On which day were you born? \"))\r\n",
    "nMonth = int(input(\"In which month were you born? \"))\r\n",
    "nYear  = int(input(\"In which year were you born? \"))\r\n",
    "\r\n",
    "theMessage = myDate(nDay, nMonth, nYear)\r\n",
    "print(theMessage)   "
   ]
  },
  {
   "cell_type": "code",
   "execution_count": null,
   "metadata": {},
   "outputs": [],
   "source": [
    "\n"
   ]
  },
  {
   "cell_type": "code",
   "execution_count": null,
   "metadata": {},
   "outputs": [],
   "source": []
  }
 ],
 "metadata": {
  "kernelspec": {
   "display_name": "Python 3.9.0  ('venv': venv)",
   "name": "pythonjvsc74a57bd044fb1e7d7a928a082cd3551ffdb601d987a28945d590001de31570b96668db54"
  },
  "language_info": {
   "codemirror_mode": {
    "name": "ipython",
    "version": 3
   },
   "file_extension": ".py",
   "mimetype": "text/x-python",
   "name": "python",
   "nbconvert_exporter": "python",
   "pygments_lexer": "ipython3",
   "version": "3.9.0"
  },
  "metadata": {
   "interpreter": {
    "hash": "44fb1e7d7a928a082cd3551ffdb601d987a28945d590001de31570b96668db54"
   }
  },
  "orig_nbformat": 3
 },
 "nbformat": 4,
 "nbformat_minor": 2
}