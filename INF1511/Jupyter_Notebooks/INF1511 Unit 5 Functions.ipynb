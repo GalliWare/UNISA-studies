{
 "cells": [
  {
   "cell_type": "code",
   "execution_count": null,
   "metadata": {},
   "outputs": [],
   "source": [
    "#functions have a name\n",
    "#functions are passed values using parameter\n",
    "#functions can return a result"
   ]
  },
  {
   "cell_type": "code",
   "execution_count": null,
   "metadata": {},
   "outputs": [],
   "source": [
    "def sum(a,b):\n",
    "    return (a+b)\n",
    "\n",
    "nTotal=sum(4,5)\n",
    "print(nTotal)"
   ]
  },
  {
   "cell_type": "code",
   "execution_count": null,
   "metadata": {},
   "outputs": [],
   "source": [
    "def subtract(a,b):\n",
    "    return (a-b)\n",
    "\n",
    "nTotal=subtract(4,5)\n",
    "print(nTotal)"
   ]
  },
  {
   "cell_type": "code",
   "execution_count": null,
   "metadata": {},
   "outputs": [],
   "source": [
    "def myAdd(a,b,c,d,e):\n",
    "    return (a+b+c+d+e)\n",
    "nTotal=myAdd(1,2,3,4,5)\n",
    "print(nTotal)"
   ]
  },
  {
   "cell_type": "code",
   "execution_count": null,
   "metadata": {},
   "outputs": [],
   "source": [
    "#comment ....\n",
    "def myAverage(a,b,c,d,e)\n",
    "    return (a+b+c+d+e/5.0)\n",
    "#input\n",
    "#processing\n",
    "nAve=myAverage(1,2,3,4,5)\n",
    "#output\n",
    "print(nAve)"
   ]
  },
  {
   "cell_type": "code",
   "execution_count": null,
   "metadata": {},
   "outputs": [],
   "source": [
    "#comment ....\n",
    "def myNumber(nNum):\n",
    "    if nNum==1:\n",
    "        return('one')\n",
    "    elif nNum==2:\n",
    "        return('two')\n",
    "    else:\n",
    "        return('sorry, not defined')\n",
    "#input\n",
    "nNum=int(input('Please enter a number : '))\n",
    "#processing\n",
    "\n",
    "#output\n",
    "print(myNumber(nNum))"
   ]
  },
  {
   "cell_type": "code",
   "execution_count": null,
   "metadata": {},
   "outputs": [],
   "source": [
    "#define the function using default value parameter\n",
    "def sum(a,b=20):\n",
    "    return (a+b)\n",
    "\n",
    "#input\n",
    "myNum=int(input(\"please enter a number : \"))\n",
    "\n",
    "nTotal=sum(myNum)\n",
    "print(nTotal)\n",
    "nTotal=sum(myNum, myNum)\n",
    "print(nTotal)"
   ]
  },
  {
   "cell_type": "code",
   "execution_count": null,
   "metadata": {},
   "outputs": [],
   "source": [
    "#global and local variables\n",
    "def myAdd():\n",
    "    global x\n",
    "    print('The value of x in function is : ', x)\n",
    "    x=x+5\n",
    "    print('The value of x in function is : ', x)\n",
    "    return\n",
    "x=0\n",
    "myAdd()\n",
    "print('The value of x out of function is : ', x)"
   ]
  },
  {
   "cell_type": "code",
   "execution_count": null,
   "metadata": {},
   "outputs": [],
   "source": [
    "#global and local variables\n",
    "def myAdd(x):\n",
    "    #global x\n",
    "    print('The value of x in function is : ', x)\n",
    "    x=x+5\n",
    "    print('The value of x in function is : ', x)\n",
    "    return\n",
    "x=0\n",
    "myAdd(x)\n",
    "print('The value of x out of function is : ', x)"
   ]
  },
  {
   "cell_type": "code",
   "execution_count": null,
   "metadata": {},
   "outputs": [],
   "source": [
    "#lamda functions\n",
    "def f(y):\n",
    "    return (y+2)*3\n",
    "\n",
    "x=int(input('input a value : '))\n",
    "print(f(x))"
   ]
  },
  {
   "cell_type": "code",
   "execution_count": null,
   "metadata": {},
   "outputs": [],
   "source": [
    "#using functions to format input\n",
    "def myFormat(s1, s2):\n",
    "    fullName = s1.title() + ' ' + s2.title()\n",
    "    return fullName\n",
    "#input\n",
    "firstname=input('input your first name : ')\n",
    "surname = input('input your surname : ')\n",
    "#processing\n",
    "myName=myFormat(firstname, surname)\n",
    "#output\n",
    "print(myName)"
   ]
  },
  {
   "cell_type": "code",
   "execution_count": null,
   "metadata": {},
   "outputs": [],
   "source": [
    "def evenval(x):\n",
    "    return (x%2 ==0)\n",
    "\n",
    "#input\n",
    "#nStart=int(input('Enter a start number : '))\n",
    "#nEnd=int(input('Enter an end number: '))\n",
    "myEvens=filter(evenval, range(1,10))\n",
    "print(list(myEvens))"
   ]
  },
  {
   "cell_type": "code",
   "execution_count": null,
   "metadata": {},
   "outputs": [],
   "source": [
    "def square(nNum):\n",
    "    return (nNum*nNum)\n",
    "#input\n",
    "#nStart=int(input('Enter a start number : '))\n",
    "#nEnd=int(input('Enter an end number: '))\n",
    "#process\n",
    "mySquare=map(square, range(1,11))\n",
    "#output\n",
    "print(list(mySquare))"
   ]
  },
  {
   "cell_type": "code",
   "execution_count": null,
   "metadata": {},
   "outputs": [],
   "source": [
    "#note that functools is a module that is imported\n",
    "import functools\n",
    "def myAdd(x, y):\n",
    "    return (x+y)\n",
    "mySum=functools.reduce(myAdd, range(1,5))\n",
    "print(mySum)"
   ]
  },
  {
   "cell_type": "code",
   "execution_count": null,
   "metadata": {},
   "outputs": [],
   "source": [
    "#define the function attributes\n",
    "#change the value of the function attributes ....\n"
   ]
  },
  {
   "cell_type": "code",
   "execution_count": null,
   "metadata": {},
   "outputs": [],
   "source": [
    "#you can implement recursion using a function\n",
    "#Write a program using recursion that adds 10 numbers"
   ]
  },
  {
   "cell_type": "code",
   "execution_count": null,
   "metadata": {},
   "outputs": [],
   "source": [
    "#Write a program to demonstrate the use of an iterator and a generator"
   ]
  },
  {
   "cell_type": "code",
   "execution_count": null,
   "metadata": {},
   "outputs": [],
   "source": [
    "#there are a number of ways of importing modules .... NB\n",
    "from calendar import *\n",
    "year=int(input('The year is : '))\n",
    "prcal(year)"
   ]
  },
  {
   "cell_type": "code",
   "execution_count": null,
   "metadata": {},
   "outputs": [],
   "source": [
    "#import math"
   ]
  },
  {
   "cell_type": "code",
   "execution_count": null,
   "metadata": {},
   "outputs": [],
   "source": [
    "def myPet(petType,petName):\n",
    "    print('I have a %s named %s.' %(petType.lower(), petName.title()))\n",
    "\n",
    "petType = str(input(\"What type of pet do you have? \"))\n",
    "petName = str(input(\"What is the name of your pet? \"))\n",
    "myPet(petType, petName)"
   ]
  },
  {
   "cell_type": "markdown",
   "metadata": {},
   "source": [
    "## Function\n",
    "Defines a function called myDate.\n",
    "The program must prompt the user for the input to the function, namely is three integers (nDay, nMonth, nYear). \n",
    "The output from the function must be a string message describing your birthday. \n",
    "The function call theMessage = myDate (nDay, nMonth, nYear), must be following by a print(theMessage)."
   ]
  },
  {
   "cell_type": "code",
   "execution_count": null,
   "metadata": {},
   "outputs": [],
   "source": [
    "def myDate(nDay, nMonth, nYear):\n",
    "    sMonth = 'XXX'\n",
    "    months = ['January','February','March','April','May','June','July','August','September','October','November','December']\n",
    "    if 1 <= nMonth <= 12:\n",
    "        print (\"The month is\", months[nMonth-1])\n",
    "        sMonth = months[nMonth-1]\n",
    "    else:\n",
    "        print (\"Value is out of the range\") \n",
    "    return ('You were born on %d %s %d' %(nDay, sMonth, nYear))    \n",
    "        \n",
    "nDay   = int(input(\"On which day were you born? \"))\n",
    "nMonth = int(input(\"In which month were you born? \"))\n",
    "nYear  = int(input(\"In which year were you born? \"))\n",
    "\n",
    "theMessage = myDate(nDay, nMonth, nYear)\n",
    "print(theMessage)   "
   ]
  },
  {
   "cell_type": "code",
   "execution_count": null,
   "metadata": {},
   "outputs": [],
   "source": [
    "\n"
   ]
  },
  {
   "cell_type": "code",
   "execution_count": null,
   "metadata": {},
   "outputs": [],
   "source": []
  }
 ],
 "metadata": {
  "kernelspec": {
   "display_name": "Python 3",
   "language": "python",
   "name": "python3"
  },
  "language_info": {
   "codemirror_mode": {
    "name": "ipython",
    "version": 3
   },
   "file_extension": ".py",
   "mimetype": "text/x-python",
   "name": "python",
   "nbconvert_exporter": "python",
   "pygments_lexer": "ipython3",
   "version": "3.7.4"
  }
 },
 "nbformat": 4,
 "nbformat_minor": 2
}
