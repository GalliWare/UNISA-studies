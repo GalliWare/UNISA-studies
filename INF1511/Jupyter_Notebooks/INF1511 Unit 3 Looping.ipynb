{
 "cells": [
  {
   "cell_type": "code",
   "execution_count": null,
   "metadata": {},
   "outputs": [],
   "source": [
    "#use the FOR to repeat when the NUMBER OF ITERATIONS are known\n",
    "#the FOR loop is controlled by a count\n",
    "#the control variable is tested at the start of the FOR loop\n",
    "for icount in range(1,12,3):\n",
    "    print(icount)\n",
    "    print('in loop')\n",
    "print('hello out loop \\n')"
   ]
  },
  {
   "cell_type": "markdown",
   "metadata": {},
   "source": [
    "### Problem. Change the program below to prompt the user for input. Add the comments for input, process and output"
   ]
  },
  {
   "cell_type": "code",
   "execution_count": null,
   "metadata": {},
   "outputs": [],
   "source": [
    "#use the FOR to repeat when the NUMBER OF ITERATIONS are known\n",
    "#the FOR loop is controlled by a count\n",
    "#the control variable is tested at the start of the FOR loop\n",
    "istart=3\n",
    "iend=20\n",
    "for icount in range(istart,iend,5):\n",
    "    print(icount)"
   ]
  },
  {
   "cell_type": "markdown",
   "metadata": {},
   "source": [
    "### Problem. Change the program below to prompt the user for input. Provide a meaningful message for the user."
   ]
  },
  {
   "cell_type": "code",
   "execution_count": null,
   "metadata": {},
   "outputs": [],
   "source": [
    "#use the FOR to repeat when the NUMBER OF ITERATIONS are known\n",
    "#the FOR loop is controlled by a count\n",
    "#the control variable is tested at the start of the FOR loop\n",
    "for icount in range(2,11,5):\n",
    "    print(icount)"
   ]
  },
  {
   "cell_type": "code",
   "execution_count": null,
   "metadata": {},
   "outputs": [],
   "source": [
    "#use the FOR to repeat when the NUMBER OF ITERATIONS are known\n",
    "#the FOR loop is controlled by a count\n",
    "#the control variable is tested at the start of the FOR loop\n",
    "for icount in (2,3,4,5):\n",
    "    print(icount)"
   ]
  },
  {
   "cell_type": "code",
   "execution_count": null,
   "metadata": {},
   "outputs": [],
   "source": [
    "#use the FOR to repeat when the NUMBER OF ITERATIONS are known\n",
    "#the FOR loop is controlled by a count\n",
    "#the control variable is tested at the start of the FOR loop\n",
    "for icount in (34, 99, 44,77):\n",
    "    print('the number is: ', icount)"
   ]
  },
  {
   "cell_type": "code",
   "execution_count": null,
   "metadata": {},
   "outputs": [],
   "source": [
    "#use the WHILE to repeat when the NUMBER OF ITERATIONS are UNKNOWN\n",
    "#the WHILE loop is controlled by a BOOLEAN\n",
    "#the control variable is tested at the start of the WHILE loop\n",
    "\n",
    "#NO NO NO NO  INFINITE ...........................................\n",
    "#icount=8\n",
    "#while icount <= 10 :\n",
    "#    print(icount)"
   ]
  },
  {
   "cell_type": "code",
   "execution_count": null,
   "metadata": {},
   "outputs": [],
   "source": [
    "#use the WHILE to repeat when the NUMBER OF ITERATIONS are UNKNOWN\n",
    "#the WHILE loop is controlled by a BOOLEAN\n",
    "#the control variable is tested at the start of the WHILE loop\n",
    "#control variable must be controlled!!!!!!! intialise/increment OR infinity!\n",
    "\n",
    "#initialise\n",
    "icount=2\n",
    "#test\n",
    "while icount < 10 :    \n",
    "    print(icount)\n",
    "    #increment\n",
    "    icount=icount + 3\n",
    "    \n",
    "print('while loop done')    "
   ]
  },
  {
   "cell_type": "code",
   "execution_count": null,
   "metadata": {},
   "outputs": [],
   "source": [
    "#use the WHILE to repeat when the NUMBER OF ITERATIONS are UNKNOWN\n",
    "#the WHILE loop is controlled by a BOOLEAN\n",
    "#the control variable is tested at the start of the WHILE loop\n",
    "#control variable must be controlled!!!!intialise/increment OR infinity!\n",
    "\n",
    "#initialise\n",
    "icount=8\n",
    "#test\n",
    "while icount <= 10 :\n",
    "    print(icount)\n",
    "    #increment\n",
    "    icount=icount + 1    "
   ]
  },
  {
   "cell_type": "code",
   "execution_count": null,
   "metadata": {},
   "outputs": [],
   "source": [
    "#enhancement \n",
    "sessions = ['python', 'basics', 'advanced', 'cyber']\n",
    "for xxxx in sessions:\n",
    "    print(xxxx)"
   ]
  },
  {
   "cell_type": "code",
   "execution_count": null,
   "metadata": {},
   "outputs": [],
   "source": [
    "#enhancement\n",
    "sessions = ['python', 'basics', 'advanced', 'cyber']\n",
    "for session in sessions:\n",
    "    print(session.title() + \" was a great session. Really learnt alot!\")"
   ]
  },
  {
   "cell_type": "code",
   "execution_count": null,
   "metadata": {},
   "outputs": [],
   "source": [
    "#enhancement\n",
    "sessions = ['python', 'basics', 'advanced', 'cyber']\n",
    "for session in sessions:\n",
    "    print(session.title() + \" was a great session. Really learnt alot!\")\n",
    "    #print('Thank You for sharing')\n",
    "print('Thank You for sharing \\n')"
   ]
  },
  {
   "cell_type": "code",
   "execution_count": null,
   "metadata": {},
   "outputs": [],
   "source": [
    "#initialise\n",
    "icount=20\n",
    "#PMG changed this to 100 on 20210318\n",
    "while icount <100:\n",
    "    print(icount)\n",
    "    icount = icount + 20\n",
    "    #print('in loop')\n",
    "print('Transaction completed')    "
   ]
  },
  {
   "cell_type": "code",
   "execution_count": null,
   "metadata": {},
   "outputs": [],
   "source": [
    "#write a program to count for 1 to 10\n",
    "for inumber in range (1,11,2):\n",
    "    print(inumber)"
   ]
  },
  {
   "cell_type": "code",
   "execution_count": null,
   "metadata": {},
   "outputs": [],
   "source": [
    "#write a program to count from 10 to 1"
   ]
  },
  {
   "cell_type": "code",
   "execution_count": null,
   "metadata": {},
   "outputs": [],
   "source": [
    "#write a program to ask the user for a number for from 1 to 10.  The output must be the times table for that number ...\n",
    "nNumber = int(input('Please give a number : '))\n",
    "for icount in range (1,11):\n",
    "    nCalc = nNumber * icount\n",
    "    print('the number ', nCalc)\n",
    "print('Thank YOU')    "
   ]
  },
  {
   "cell_type": "code",
   "execution_count": null,
   "metadata": {},
   "outputs": [],
   "source": [
    "#write a program that calculates the squares of each of the number from 1 to 10\n",
    "for icount in range (1,11):\n",
    "    nCalc=icount*icount\n",
    "    print('Square is :', nCalc)    "
   ]
  },
  {
   "cell_type": "code",
   "execution_count": null,
   "metadata": {},
   "outputs": [],
   "source": [
    "for mynumber in (1,12,7):\n",
    "    print(mynumber)"
   ]
  },
  {
   "cell_type": "markdown",
   "metadata": {},
   "source": [
    "### Write a program to print the even numbers from a start number to an end number"
   ]
  },
  {
   "cell_type": "code",
   "execution_count": null,
   "metadata": {},
   "outputs": [],
   "source": []
  },
  {
   "cell_type": "markdown",
   "metadata": {},
   "source": [
    "### Write a program to print the odd numbers from a start number to an end number as input from the user."
   ]
  },
  {
   "cell_type": "code",
   "execution_count": null,
   "metadata": {},
   "outputs": [],
   "source": []
  },
  {
   "cell_type": "markdown",
   "metadata": {},
   "source": [
    "### Write a program that uses a FOR loop. The program must prompt the digits of your ID number.  The program must output each digit as well as the sum of the digits."
   ]
  },
  {
   "cell_type": "code",
   "execution_count": null,
   "metadata": {},
   "outputs": [],
   "source": []
  },
  {
   "cell_type": "markdown",
   "metadata": {},
   "source": [
    "### Write a program that requests numbers as input from the user. Add these numbers. The WHILE loop must terminiate once the sum exceeds a SecretNumber variable value.  Please make provision to avoid an infinte loop!"
   ]
  },
  {
   "cell_type": "code",
   "execution_count": null,
   "metadata": {},
   "outputs": [],
   "source": []
  }
 ],
 "metadata": {
  "kernelspec": {
   "display_name": "Python 3",
   "language": "python",
   "name": "python3"
  },
  "language_info": {
   "codemirror_mode": {
    "name": "ipython",
    "version": 3
   },
   "file_extension": ".py",
   "mimetype": "text/x-python",
   "name": "python",
   "nbconvert_exporter": "python",
   "pygments_lexer": "ipython3",
   "version": "3.7.4"
  }
 },
 "nbformat": 4,
 "nbformat_minor": 2
}
