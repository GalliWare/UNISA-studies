{
 "cells": [
  {
   "cell_type": "code",
   "execution_count": null,
   "metadata": {},
   "outputs": [],
   "source": [
    "#Object Orientation ... classes \n",
    "#Class body\n",
    "#data - variables - data members\n",
    "#operations - methods - member functions\n",
    "#create instances (use instances) objects"
   ]
  },
  {
   "cell_type": "code",
   "execution_count": null,
   "metadata": {},
   "outputs": [],
   "source": [
    "#define the class object\r\n",
    "class tri:\r\n",
    "    #an attribute of the class\r\n",
    "    base=9\r\n",
    "    height=4\r\n",
    "print(tri.base)\r\n",
    "print(tri.height)"
   ]
  },
  {
   "cell_type": "code",
   "execution_count": null,
   "metadata": {},
   "outputs": [],
   "source": [
    "#define the class object and use the built in functions\r\n",
    "class tri:\r\n",
    "    #an attribute of the class\r\n",
    "    base=9\r\n",
    "    height=4\r\n",
    "print(tri.base)\r\n",
    "print(tri.height)\r\n",
    "print('class name is ', tri.__name__)"
   ]
  },
  {
   "cell_type": "code",
   "execution_count": null,
   "metadata": {},
   "outputs": [],
   "source": [
    "#define the class object\r\n",
    "#the function defined in a class is called a method\r\n",
    "#data members: NB difference between class and instance variables .... test\r\n",
    "class tri:\r\n",
    "    #an attribute of the class\r\n",
    "    base=9\r\n",
    "    height=4\r\n",
    "    def calc(self):\r\n",
    "        area=0.5*tri.base*tri.height\r\n",
    "        return (area)\r\n",
    "    \r\n",
    "#create an instance\r\n",
    "myTri=tri()\r\n",
    "print(myTri.base)\r\n",
    "print(myTri.height)\r\n",
    "#Python add self automatically!\r\n",
    "myTri.calc()"
   ]
  },
  {
   "cell_type": "code",
   "execution_count": null,
   "metadata": {},
   "outputs": [],
   "source": [
    "#define the class object introducing the initialization ...\r\n",
    "#the function defined in a class is called a method\r\n",
    "#data members: NB difference between class and instance variables .... test\r\n",
    "class tri:\r\n",
    "    def __init__(self):\r\n",
    "        self.base=9\r\n",
    "        self.height=4\r\n",
    "    def calc(self):\r\n",
    "        area=0.5*self.base*self.height\r\n",
    "        return (area)\r\n",
    "    \r\n",
    "#create an instance\r\n",
    "myTri=tri()\r\n",
    "print(myTri.base)\r\n",
    "print(myTri.height)\r\n",
    "#Python add self automatically!\r\n",
    "myTri.calc()"
   ]
  },
  {
   "cell_type": "code",
   "execution_count": null,
   "metadata": {},
   "outputs": [],
   "source": [
    "#define the class object introducing the initialization ...\r\n",
    "#the function defined in a class is called a method\r\n",
    "#data members: NB difference between class and instance variables .... test\r\n",
    "class tri:\r\n",
    "    def __init__(self, x, y):\r\n",
    "        self.base=x\r\n",
    "        self.height=y\r\n",
    "    def calc(self):\r\n",
    "        area=0.5*self.base*self.height\r\n",
    "        return (area)\r\n",
    "    \r\n",
    "#create an instance\r\n",
    "myTri=tri(12,5)\r\n",
    "print(myTri.base)\r\n",
    "print(myTri.height)\r\n",
    "#Python add self automatically!\r\n",
    "myTri.calc()"
   ]
  },
  {
   "cell_type": "code",
   "execution_count": null,
   "metadata": {},
   "outputs": [],
   "source": [
    "#define the class object introducing the initialization ...\r\n",
    "#the function defined in a class is called a method\r\n",
    "#data members: NB difference between class and instance variables .... test\r\n",
    "class tri:\r\n",
    "    def __init__(self, x, y):\r\n",
    "        self.base=x\r\n",
    "        self.height=y\r\n",
    "    def calc(self):\r\n",
    "        area=0.5*self.base*self.height\r\n",
    "        return (area)\r\n",
    "    \r\n",
    "#create an instance\r\n",
    "myBase=int(input('Please enter the base length : '))\r\n",
    "myHeight=int(input('Please enter the height : '))\r\n",
    "myTri=tri(myBase, myHeight)\r\n",
    "print(myTri.base)\r\n",
    "print(myTri.height)\r\n",
    "#Python add self automatically!\r\n",
    "myTri.calc()"
   ]
  },
  {
   "cell_type": "code",
   "execution_count": null,
   "metadata": {},
   "outputs": [],
   "source": [
    "#define the class object introducing the initialization ...\r\n",
    "#the function defined in a class is called a method\r\n",
    "#data members: NB difference between class and instance variables .... test\r\n",
    "#difference class method vs static method (has no cls parameter!!)\r\n",
    "class tri:\r\n",
    "    #setting default values\r\n",
    "    def __init__(self, x=10, y=10):\r\n",
    "        self.base=x\r\n",
    "        self.height=y\r\n",
    "    ##using a str    \r\n",
    "    #def __str__\r\n",
    "    #    return\r\n",
    "    def calc(self):\r\n",
    "        area=0.5*self.base*self.height\r\n",
    "        return (area)\r\n",
    "    \r\n",
    "#create an instance\r\n",
    "myBase=int(input('Please enter the base length : '))\r\n",
    "myHeight=int(input('Please enter the height : '))\r\n",
    "myTri=tri(myBase, myHeight)\r\n",
    "print(myTri.base)\r\n",
    "print(myTri.height)\r\n",
    "#Python add self automatically!\r\n",
    "myTri.calc()"
   ]
  },
  {
   "cell_type": "code",
   "execution_count": null,
   "metadata": {},
   "outputs": [],
   "source": [
    "#implementation of garbage collection .....\n",
    "#work thorugh an exaple to show how garbage collection frees the memory"
   ]
  },
  {
   "cell_type": "code",
   "execution_count": null,
   "metadata": {},
   "outputs": [],
   "source": [
    "#inheritance\n",
    "#can inherit from an existing class base class or super-class\n",
    "#if you are inheriting, then a derived class or sub-class"
   ]
  },
  {
   "cell_type": "code",
   "execution_count": null,
   "metadata": {},
   "outputs": [],
   "source": [
    "#specifying the access control\r\n",
    "#public member can be accessed from inside AND outside\r\n",
    "class triangle:\r\n",
    "    #setting default values\r\n",
    "    def __init__(self, x=10, y=10):\r\n",
    "        self.base=x\r\n",
    "        self.height=y\r\n",
    "    ##using a str    \r\n",
    "    #def __str__\r\n",
    "    #    return\r\n",
    "    def calc(self):\r\n",
    "        area=0.5*self.base*self.height\r\n",
    "        return (area)\r\n",
    "#create an instance\r\n",
    "myBase=int(input('Please enter the base length : '))\r\n",
    "myHeight=int(input('Please enter the height : '))\r\n",
    "myTri=triangle(myBase, myHeight)\r\n",
    "print(myTri.base)\r\n",
    "print(myTri.height)\r\n",
    "#Python add self automatically!\r\n",
    "myTri.calc()\r\n",
    "    \r\n"
   ]
  },
  {
   "cell_type": "code",
   "execution_count": null,
   "metadata": {},
   "outputs": [],
   "source": [
    "#private member can be accessed from inside ONLY\r\n",
    "class triangle:\r\n",
    "    #setting default values\r\n",
    "    def __init__(self, x=10, y=10):\r\n",
    "        self.__base=x\r\n",
    "        self.__height=y\r\n",
    "    ##using a str    \r\n",
    "    #def __str__\r\n",
    "    #    return\r\n",
    "    def calc(self):\r\n",
    "        area=0.5*self.base*self.height\r\n",
    "        return (area)\r\n",
    "#create an instance\r\n",
    "myBase=int(input('Please enter the base length : '))\r\n",
    "myHeight=int(input('Please enter the height : '))\r\n",
    "myTri=triangle(myBase, myHeight)\r\n",
    "print(myTri.base)\r\n",
    "print(myTri.height)\r\n",
    "#Python add self automatically!\r\n",
    "myTri.calc()"
   ]
  },
  {
   "cell_type": "code",
   "execution_count": null,
   "metadata": {},
   "outputs": [],
   "source": [
    "#create a bird class\r\n",
    "class Bird()"
   ]
  },
  {
   "cell_type": "code",
   "execution_count": null,
   "metadata": {},
   "outputs": [],
   "source": [
    "#allow the bird class to store the name of the bird and the age of the bird, include the init methods\n",
    "#include two methods, the bird can sit or the bird can fly\n",
    "class Bird():\n",
    "\n",
    "    def __init__(self, name, age):\n",
    "        self.name = name\n",
    "        self.age=age\n",
    "    def birdsit(self):\n",
    "        print(self.name + ' is a bird that is sitting')\n",
    "    def birdfly(self):\n",
    "        print(self.name + ' is a bird that is flying')\n",
    "        \n",
    "myBird=Bird('Blue',4)\n",
    "print(myBird.name)\n",
    "myBird.birdsit()\n",
    "myBird.birdfly()\n",
    "        "
   ]
  },
  {
   "cell_type": "code",
   "execution_count": null,
   "metadata": {},
   "outputs": [],
   "source": [
    "#use the code and create three different instances of Bird()\n",
    "class Bird():\n",
    "\n",
    "    def __init__(self, name, age):\n",
    "        self.name = name\n",
    "        self.age=age\n",
    "    def birdsit(self):\n",
    "        print(self.name + ' is a bird that is sitting')\n",
    "    def birdfly(self):\n",
    "        print(self.name + ' is a bird that is flying')\n",
    "        \n",
    "#modify this to use user input.\n",
    "myBird=Bird('Blue',4)\n",
    "print(myBird.name)\n",
    "myBird.birdsit()\n",
    "myBird.birdfly()"
   ]
  },
  {
   "cell_type": "code",
   "execution_count": null,
   "metadata": {},
   "outputs": [],
   "source": [
    "#add the bird type to the attributes of bird\n"
   ]
  },
  {
   "cell_type": "code",
   "execution_count": null,
   "metadata": {},
   "outputs": [],
   "source": [
    "#add the method walk to the class"
   ]
  },
  {
   "cell_type": "code",
   "execution_count": null,
   "metadata": {},
   "outputs": [],
   "source": [
    "#create a class Book() and include title , author and publisher. \n",
    "#Include the methods eBooAvailable and NoStock with a relevant message.  Suggest two other methods for the class Book()"
   ]
  },
  {
   "cell_type": "code",
   "execution_count": null,
   "metadata": {},
   "outputs": [],
   "source": [
    "#create a class Student() Suggest two attributes and two methods for the class Book()"
   ]
  }
 ],
 "metadata": {
  "interpreter": {
   "hash": "63fd5069d213b44bf678585dea6b12cceca9941eaf7f819626cde1f2670de90d"
  },
  "kernelspec": {
   "display_name": "Python 3.9.0 64-bit",
   "name": "python3"
  },
  "language_info": {
   "name": "python",
   "version": ""
  }
 },
 "nbformat": 4,
 "nbformat_minor": 2
}