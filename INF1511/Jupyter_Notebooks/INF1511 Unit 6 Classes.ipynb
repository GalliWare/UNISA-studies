{
 "cells": [
  {
   "cell_type": "code",
   "execution_count": null,
   "metadata": {},
   "outputs": [],
   "source": [
    "#Object Orientation ... classes \n",
    "#Class body\n",
    "#data - variables - data members\n",
    "#operations - methods - member functions\n",
    "#create instances (use instances) objects"
   ]
  },
  {
   "cell_type": "code",
   "execution_count": null,
   "metadata": {},
   "outputs": [],
   "source": [
    "#define the class object\n",
    "class triangle:\n",
    "    #an attribute of the class\n",
    "    base=9\n",
    "    height=4\n",
    "print(triangle.base)\n",
    "print(triangle.height)"
   ]
  },
  {
   "cell_type": "code",
   "execution_count": null,
   "metadata": {},
   "outputs": [],
   "source": [
    "#define the class object and use the built in functions\n",
    "class triangle:\n",
    "    #an attribute of the class\n",
    "    base=9\n",
    "    height=4\n",
    "print(triangle.base)\n",
    "print(triangle.height)\n",
    "print('class name is ', triangle.__name__)"
   ]
  },
  {
   "cell_type": "code",
   "execution_count": null,
   "metadata": {},
   "outputs": [],
   "source": [
    "#define the class object\n",
    "#the function defined in a class is called a method\n",
    "#data members: NB difference between class and instance variables .... test\n",
    "class triangle:\n",
    "    #an attribute of the class\n",
    "    base=9\n",
    "    height=4\n",
    "    def calc(self):\n",
    "        area=0.5*triangle.base*triangle.height\n",
    "        return (area)\n",
    "    \n",
    "#create an instance\n",
    "myTri=triangle()\n",
    "print(myTri.base)\n",
    "print(myTri.height)\n",
    "#Python add self automatically!\n",
    "myTri.calc()"
   ]
  },
  {
   "cell_type": "code",
   "execution_count": null,
   "metadata": {},
   "outputs": [],
   "source": [
    "#define the class object introducing the initialization ...\n",
    "#the function defined in a class is called a method\n",
    "#data members: NB difference between class and instance variables .... test\n",
    "class triangle:\n",
    "    def __init__(self):\n",
    "        self.base=9\n",
    "        self.height=4\n",
    "    def calc(self):\n",
    "        area=0.5*self.base*self.height\n",
    "        return (area)\n",
    "    \n",
    "#create an instance\n",
    "myTri=triangle()\n",
    "print(myTri.base)\n",
    "print(myTri.height)\n",
    "#Python add self automatically!\n",
    "myTri.calc()"
   ]
  },
  {
   "cell_type": "code",
   "execution_count": null,
   "metadata": {},
   "outputs": [],
   "source": [
    "#define the class object introducing the initialization ...\n",
    "#the function defined in a class is called a method\n",
    "#data members: NB difference between class and instance variables .... test\n",
    "class triangle:\n",
    "    def __init__(self, x, y):\n",
    "        self.base=x\n",
    "        self.height=y\n",
    "    def calc(self):\n",
    "        area=0.5*self.base*self.height\n",
    "        return (area)\n",
    "    \n",
    "#create an instance\n",
    "myTri=triangle(12,5)\n",
    "print(myTri.base)\n",
    "print(myTri.height)\n",
    "#Python add self automatically!\n",
    "myTri.calc()"
   ]
  },
  {
   "cell_type": "code",
   "execution_count": null,
   "metadata": {},
   "outputs": [],
   "source": [
    "#define the class object introducing the initialization ...\n",
    "#the function defined in a class is called a method\n",
    "#data members: NB difference between class and instance variables .... test\n",
    "class triangle:\n",
    "    def __init__(self, x, y):\n",
    "        self.base=x\n",
    "        self.height=y\n",
    "    def calc(self):\n",
    "        area=0.5*self.base*self.height\n",
    "        return (area)\n",
    "    \n",
    "#create an instance\n",
    "myBase=int(input('Please enter the base length : '))\n",
    "myHeight=int(input('Please enter the height : '))\n",
    "myTri=triangle(myBase, myHeight)\n",
    "print(myTri.base)\n",
    "print(myTri.height)\n",
    "#Python add self automatically!\n",
    "myTri.calc()"
   ]
  },
  {
   "cell_type": "code",
   "execution_count": null,
   "metadata": {},
   "outputs": [],
   "source": [
    "#define the class object introducing the initialization ...\n",
    "#the function defined in a class is called a method\n",
    "#data members: NB difference between class and instance variables .... test\n",
    "#difference class method vs static method (has no cls parameter!!)\n",
    "class triangle:\n",
    "    #setting default values\n",
    "    def __init__(self, x=10, y=10):\n",
    "        self.base=x\n",
    "        self.height=y\n",
    "    ##using a str    \n",
    "    #def __str__\n",
    "    #    return\n",
    "    def calc(self):\n",
    "        area=0.5*self.base*self.height\n",
    "        return (area)\n",
    "    \n",
    "#create an instance\n",
    "myBase=int(input('Please enter the base length : '))\n",
    "myHeight=int(input('Please enter the height : '))\n",
    "myTri=triangle(myBase, myHeight)\n",
    "print(myTri.base)\n",
    "print(myTri.height)\n",
    "#Python add self automatically!\n",
    "myTri.calc()"
   ]
  },
  {
   "cell_type": "code",
   "execution_count": null,
   "metadata": {},
   "outputs": [],
   "source": [
    "#implementation of garbage collection .....\n",
    "#work thorugh an exaple to show how garbage collection frees the memory"
   ]
  },
  {
   "cell_type": "code",
   "execution_count": null,
   "metadata": {},
   "outputs": [],
   "source": [
    "#inheritance\n",
    "#can inherit from an existing class base class or super-class\n",
    "#if you are inheriting, then a derived class or sub-class"
   ]
  },
  {
   "cell_type": "code",
   "execution_count": null,
   "metadata": {},
   "outputs": [],
   "source": [
    "#specifying the access control\n",
    "#public member can be accessed from inside AND outside\n",
    "class triangle:\n",
    "    #setting default values\n",
    "    def __init__(self, x=10, y=10):\n",
    "        self.base=x\n",
    "        self.height=y\n",
    "    ##using a str    \n",
    "    #def __str__\n",
    "    #    return\n",
    "    def calc(self):\n",
    "        area=0.5*self.base*self.height\n",
    "        return (area)\n",
    "#create an instance\n",
    "myBase=int(input('Please enter the base length : '))\n",
    "myHeight=int(input('Please enter the height : '))\n",
    "myTri=triangle(myBase, myHeight)\n",
    "print(myTri.base)\n",
    "print(myTri.height)\n",
    "#Python add self automatically!\n",
    "myTri.calc()\n",
    "    \n"
   ]
  },
  {
   "cell_type": "code",
   "execution_count": null,
   "metadata": {},
   "outputs": [],
   "source": [
    "#private member can be accessed from inside ONLY\n",
    "class triangle:\n",
    "    #setting default values\n",
    "    def __init__(self, x=10, y=10):\n",
    "        self.__base=x\n",
    "        self.__height=y\n",
    "    ##using a str    \n",
    "    #def __str__\n",
    "    #    return\n",
    "    def calc(self):\n",
    "        area=0.5*self.base*self.height\n",
    "        return (area)\n",
    "#create an instance\n",
    "myBase=int(input('Please enter the base length : '))\n",
    "myHeight=int(input('Please enter the height : '))\n",
    "myTri=triangle(myBase, myHeight)\n",
    "print(myTri.base)\n",
    "print(myTri.height)\n",
    "#Python add self automatically!\n",
    "myTri.calc()"
   ]
  },
  {
   "cell_type": "code",
   "execution_count": null,
   "metadata": {},
   "outputs": [],
   "source": [
    "#create a bird class\n",
    "class Bird()"
   ]
  },
  {
   "cell_type": "code",
   "execution_count": null,
   "metadata": {},
   "outputs": [],
   "source": [
    "#allow the bird class to store the name of the bird and the age of the bird, include the init methods\n",
    "#include two methods, the bird can sit or the bird can fly\n",
    "class Bird():\n",
    "\n",
    "    def __init__(self, name, age):\n",
    "        self.name = name\n",
    "        self.age=age\n",
    "    def birdsit(self):\n",
    "        print(self.name + ' is a bird that is sitting')\n",
    "    def birdfly(self):\n",
    "        print(self.name + ' is a bird that is flying')\n",
    "        \n",
    "myBird=Bird('Blue',4)\n",
    "print(myBird.name)\n",
    "myBird.birdsit()\n",
    "myBird.birdfly()\n",
    "        "
   ]
  },
  {
   "cell_type": "code",
   "execution_count": null,
   "metadata": {},
   "outputs": [],
   "source": [
    "#use the code and create three different instances of Bird()\n",
    "class Bird():\n",
    "\n",
    "    def __init__(self, name, age):\n",
    "        self.name = name\n",
    "        self.age=age\n",
    "    def birdsit(self):\n",
    "        print(self.name + ' is a bird that is sitting')\n",
    "    def birdfly(self):\n",
    "        print(self.name + ' is a bird that is flying')\n",
    "        \n",
    "#modify this to use user input.\n",
    "myBird=Bird('Blue',4)\n",
    "print(myBird.name)\n",
    "myBird.birdsit()\n",
    "myBird.birdfly()"
   ]
  },
  {
   "cell_type": "code",
   "execution_count": null,
   "metadata": {},
   "outputs": [],
   "source": [
    "#add the bird type to the attributes of bird\n"
   ]
  },
  {
   "cell_type": "code",
   "execution_count": null,
   "metadata": {},
   "outputs": [],
   "source": [
    "#add the method walk to the class"
   ]
  },
  {
   "cell_type": "code",
   "execution_count": null,
   "metadata": {},
   "outputs": [],
   "source": [
    "#create a class Book() and include title , author and publisher. \n",
    "#Include the methods eBooAvailable and NoStock with a relevant message.  Suggest two other methods for the class Book()"
   ]
  },
  {
   "cell_type": "code",
   "execution_count": null,
   "metadata": {},
   "outputs": [],
   "source": [
    "#create a class Student() Suggest two attributes and two methods for the class Book()"
   ]
  }
 ],
 "metadata": {
  "kernelspec": {
   "display_name": "Python 3",
   "language": "python",
   "name": "python3"
  },
  "language_info": {
   "codemirror_mode": {
    "name": "ipython",
    "version": 3
   },
   "file_extension": ".py",
   "mimetype": "text/x-python",
   "name": "python",
   "nbconvert_exporter": "python",
   "pygments_lexer": "ipython3",
   "version": "3.7.4"
  }
 },
 "nbformat": 4,
 "nbformat_minor": 2
}
